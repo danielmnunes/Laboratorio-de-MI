{
 "cells": [
  {
   "cell_type": "markdown",
   "metadata": {},
   "source": [
    "<img src=\"ufc.png\" align=\"left\">"
   ]
  },
  {
   "cell_type": "markdown",
   "metadata": {},
   "source": [
    "Universidade Federal do Ceará  \n",
    "BACHARELADO EM MATEMÁTICA INDUSTRIAL  \n",
    "ATIVIDADE - 01/03/2020  \n",
    "DISCIPLINA: CC0329 - LABORATÓRIO DE MATEMATICA INDUSTRIAL  \n",
    "PROFESSOR: MICHAEL SOUZA   \n",
    "NOME: DANIEL MAGALHÃES NUNES  \n",
    "MATRÍCULA: 376163  "
   ]
  },
  {
   "cell_type": "code",
   "execution_count": 1,
   "metadata": {},
   "outputs": [],
   "source": [
    "# importando a classe Model de docplex.mp\n",
    "from docplex.mp.model import Model\n",
    "\n",
    "# criando uma instancia de modelo, com nome\n",
    "m = Model(name='Montagem de Automóveis')"
   ]
  },
  {
   "cell_type": "code",
   "execution_count": 2,
   "metadata": {},
   "outputs": [],
   "source": [
    "# por padrão, todas as variáveis em Docplex tem limite inferior 0 e superior infinito\n",
    "xf = m.continuous_var(name='Family Thrill-seeker')\n",
    "xc = m.continuous_var(name='Classy Cruiser')"
   ]
  },
  {
   "cell_type": "code",
   "execution_count": 3,
   "metadata": {},
   "outputs": [],
   "source": [
    "# Definindo restrições\n",
    "\n",
    "# Restrição de horas de trabalho\n",
    "m.add_constraint(6*xf + 10.5*xc <= 48000);\n",
    "\n",
    "\n",
    "# Restrição do número de portas\n",
    "m.add_constraint(4*xf + 2*xc <= 20000);\n",
    "\n",
    "\n",
    "# Restrição de demanda\n",
    "m.add_constraint(xc <= 3500);"
   ]
  },
  {
   "cell_type": "code",
   "execution_count": 4,
   "metadata": {},
   "outputs": [],
   "source": [
    "# Definindo função objetivo\n",
    "# Maximizar o lucro\n",
    "m.maximize(3600 * xf + 5400 * xc);"
   ]
  },
  {
   "cell_type": "code",
   "execution_count": 5,
   "metadata": {},
   "outputs": [
    {
     "name": "stdout",
     "output_type": "stream",
     "text": [
      "Model: Montagem de Automóveis\n",
      " - number of variables: 2\n",
      "   - binary=0, integer=0, continuous=2\n",
      " - number of constraints: 3\n",
      "   - linear=3\n",
      " - parameters: defaults\n",
      " - problem type is: LP\n"
     ]
    }
   ],
   "source": [
    "# Mostrando informações do modelo\n",
    "m.print_information()"
   ]
  },
  {
   "cell_type": "code",
   "execution_count": 6,
   "metadata": {},
   "outputs": [
    {
     "name": "stdout",
     "output_type": "stream",
     "text": [
      "objective: 26640000.000\n",
      "  \"Family Thrill-seeker\"=3800.000\n",
      "  \"Classy Cruiser\"=2400.000\n"
     ]
    }
   ],
   "source": [
    "# Resolvendo o modelo\n",
    "s = m.solve()\n",
    "m.print_solution()"
   ]
  },
  {
   "cell_type": "code",
   "execution_count": null,
   "metadata": {},
   "outputs": [],
   "source": []
  }
 ],
 "metadata": {
  "kernelspec": {
   "display_name": "Python 3",
   "language": "python",
   "name": "python3"
  },
  "language_info": {
   "codemirror_mode": {
    "name": "ipython",
    "version": 2
   },
   "file_extension": ".py",
   "mimetype": "text/x-python",
   "name": "python",
   "nbconvert_exporter": "python",
   "pygments_lexer": "ipython2",
   "version": "2.7.17"
  }
 },
 "nbformat": 4,
 "nbformat_minor": 2
}
